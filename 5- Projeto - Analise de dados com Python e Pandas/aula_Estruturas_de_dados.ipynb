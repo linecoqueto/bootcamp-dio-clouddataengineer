{
  "nbformat": 4,
  "nbformat_minor": 0,
  "metadata": {
    "colab": {
      "name": "Estruturas de dados.ipynb",
      "provenance": []
    },
    "kernelspec": {
      "name": "python3",
      "display_name": "Python 3"
    },
    "language_info": {
      "name": "python"
    }
  },
  "cells": [
    {
      "cell_type": "markdown",
      "metadata": {
        "id": "7YNb3KcPfUH2"
      },
      "source": [
        "#ESTRUTURAS DE DADOS NO PYTHON"
      ]
    },
    {
      "cell_type": "markdown",
      "metadata": {
        "id": "umbGUkQyfW2E"
      },
      "source": [
        "## Listas"
      ]
    },
    {
      "cell_type": "code",
      "metadata": {
        "colab": {
          "base_uri": "https://localhost:8080/"
        },
        "id": "H-lGiu1bfEAw",
        "outputId": "5cb244e2-4c2d-4134-bfde-1e764ebf800f"
      },
      "source": [
        "#criando uma lista chamada animais\n",
        "animais = [1,2,3]\n",
        "animais"
      ],
      "execution_count": 9,
      "outputs": [
        {
          "output_type": "execute_result",
          "data": {
            "text/plain": [
              "[1, 2, 3]"
            ]
          },
          "metadata": {},
          "execution_count": 9
        }
      ]
    },
    {
      "cell_type": "code",
      "metadata": {
        "colab": {
          "base_uri": "https://localhost:8080/"
        },
        "id": "sAvGTxPVfGmM",
        "outputId": "311e46c5-9870-4f86-96d2-f4c523f3f6c2"
      },
      "source": [
        "animais = [\"cachorro\",\"gato\",12345, 6.5]\n",
        "animais"
      ],
      "execution_count": 10,
      "outputs": [
        {
          "output_type": "execute_result",
          "data": {
            "text/plain": [
              "['cachorro', 'gato', 12345, 6.5]"
            ]
          },
          "metadata": {},
          "execution_count": 10
        }
      ]
    },
    {
      "cell_type": "code",
      "metadata": {
        "colab": {
          "base_uri": "https://localhost:8080/",
          "height": 35
        },
        "id": "Q6YK8JXxfOve",
        "outputId": "19404d00-a881-4a63-874b-b0ded3dc7a91"
      },
      "source": [
        "#imprimindo o primeiro elemento da lista \n",
        "animais[0]"
      ],
      "execution_count": 11,
      "outputs": [
        {
          "output_type": "execute_result",
          "data": {
            "application/vnd.google.colaboratory.intrinsic+json": {
              "type": "string"
            },
            "text/plain": [
              "'cachorro'"
            ]
          },
          "metadata": {},
          "execution_count": 11
        }
      ]
    },
    {
      "cell_type": "code",
      "metadata": {
        "colab": {
          "base_uri": "https://localhost:8080/"
        },
        "id": "w7XKxufxfeUP",
        "outputId": "b1584c1e-3248-401f-b613-3fbc112be2ef"
      },
      "source": [
        "#imprimindo o 4 elementro da lista\n",
        "animais[3]"
      ],
      "execution_count": 13,
      "outputs": [
        {
          "output_type": "execute_result",
          "data": {
            "text/plain": [
              "6.5"
            ]
          },
          "metadata": {},
          "execution_count": 13
        }
      ]
    },
    {
      "cell_type": "code",
      "metadata": {
        "id": "_1-Pk4jPfgZp"
      },
      "source": [
        "#substituindo o primeiro elemento da lista\n",
        "animais[0] = \"papagaio\""
      ],
      "execution_count": 14,
      "outputs": []
    },
    {
      "cell_type": "code",
      "metadata": {
        "colab": {
          "base_uri": "https://localhost:8080/"
        },
        "id": "eIfrS9Zufnq_",
        "outputId": "e45526e7-1a3a-462b-fc68-cfec0549128d"
      },
      "source": [
        "#verificar a alteração realizada\n",
        "animais"
      ],
      "execution_count": 15,
      "outputs": [
        {
          "output_type": "execute_result",
          "data": {
            "text/plain": [
              "['papagaio', 'gato', 12345, 6.5]"
            ]
          },
          "metadata": {},
          "execution_count": 15
        }
      ]
    },
    {
      "cell_type": "code",
      "metadata": {
        "id": "LTwu_h0hfoPl"
      },
      "source": [
        "#remover o gato da lista\n",
        "animais.remove(\"gato\")"
      ],
      "execution_count": 16,
      "outputs": []
    },
    {
      "cell_type": "code",
      "metadata": {
        "colab": {
          "base_uri": "https://localhost:8080/"
        },
        "id": "6s6B8VHOfuQr",
        "outputId": "d070762b-8647-4e0c-ab0a-f4bf2a41bd66"
      },
      "source": [
        "#verificar o remove realizado\n",
        "animais"
      ],
      "execution_count": 17,
      "outputs": [
        {
          "output_type": "execute_result",
          "data": {
            "text/plain": [
              "['papagaio', 12345, 6.5]"
            ]
          },
          "metadata": {},
          "execution_count": 17
        }
      ]
    },
    {
      "cell_type": "code",
      "metadata": {
        "colab": {
          "base_uri": "https://localhost:8080/"
        },
        "id": "tWJflEhVfxBo",
        "outputId": "f9b01a1e-8e5b-42f3-ed86-738e1011ed49"
      },
      "source": [
        "#verificar o tamanho de uma lista\n",
        "len(animais)"
      ],
      "execution_count": 18,
      "outputs": [
        {
          "output_type": "execute_result",
          "data": {
            "text/plain": [
              "3"
            ]
          },
          "metadata": {},
          "execution_count": 18
        }
      ]
    },
    {
      "cell_type": "code",
      "metadata": {
        "colab": {
          "base_uri": "https://localhost:8080/"
        },
        "id": "fVfURXm8f0Rg",
        "outputId": "bb009037-7529-42e9-c435-3fd41319a0cc"
      },
      "source": [
        "#verificar se um item faz parte da lista\n",
        "\"gato\" in animais"
      ],
      "execution_count": 19,
      "outputs": [
        {
          "output_type": "execute_result",
          "data": {
            "text/plain": [
              "False"
            ]
          },
          "metadata": {},
          "execution_count": 19
        }
      ]
    },
    {
      "cell_type": "code",
      "metadata": {
        "id": "mR-tr3c8f4DA"
      },
      "source": [
        "#criando uma nova lista\n",
        "lista = [500, 30, 300, 80, 10]"
      ],
      "execution_count": 20,
      "outputs": []
    },
    {
      "cell_type": "code",
      "metadata": {
        "colab": {
          "base_uri": "https://localhost:8080/"
        },
        "id": "DlECVKx6f-3t",
        "outputId": "c19ac193-47e7-41e1-e412-c74379b28fd8"
      },
      "source": [
        "#verificar um número maximo da lista\n",
        "max(lista)"
      ],
      "execution_count": 21,
      "outputs": [
        {
          "output_type": "execute_result",
          "data": {
            "text/plain": [
              "500"
            ]
          },
          "metadata": {},
          "execution_count": 21
        }
      ]
    },
    {
      "cell_type": "code",
      "metadata": {
        "colab": {
          "base_uri": "https://localhost:8080/"
        },
        "id": "-_-QUitVgFMT",
        "outputId": "0dfebc0d-d679-493d-c6aa-e2e1db6b9b45"
      },
      "source": [
        "#verificar um número minimo da lista\n",
        "min(lista)"
      ],
      "execution_count": 22,
      "outputs": [
        {
          "output_type": "execute_result",
          "data": {
            "text/plain": [
              "10"
            ]
          },
          "metadata": {},
          "execution_count": 22
        }
      ]
    },
    {
      "cell_type": "code",
      "metadata": {
        "id": "vlbuSUB9gIDJ"
      },
      "source": [
        "#adicionar um elemento a lista :: usado apenas para 1 elemento por vez\n",
        "animais.append(\"leão\")"
      ],
      "execution_count": 23,
      "outputs": []
    },
    {
      "cell_type": "code",
      "metadata": {
        "colab": {
          "base_uri": "https://localhost:8080/"
        },
        "id": "u6lvH0aJgMtC",
        "outputId": "bcf08181-9e23-4fc2-e205-04d127263552"
      },
      "source": [
        "#verificar o insert realizado\n",
        "animais"
      ],
      "execution_count": 24,
      "outputs": [
        {
          "output_type": "execute_result",
          "data": {
            "text/plain": [
              "['papagaio', 12345, 6.5, 'leão']"
            ]
          },
          "metadata": {},
          "execution_count": 24
        }
      ]
    },
    {
      "cell_type": "code",
      "metadata": {
        "id": "oEGpD3gLgPwp"
      },
      "source": [
        "#adicionar mais de um elemento\n",
        "animais.extend([\"cobra\",6])"
      ],
      "execution_count": 25,
      "outputs": []
    },
    {
      "cell_type": "code",
      "metadata": {
        "colab": {
          "base_uri": "https://localhost:8080/"
        },
        "id": "MicCMmpLgecx",
        "outputId": "7fff5f86-35dd-4b80-82fc-86228401709a"
      },
      "source": [
        "#verificar os inserts realizado\n",
        "animais"
      ],
      "execution_count": 26,
      "outputs": [
        {
          "output_type": "execute_result",
          "data": {
            "text/plain": [
              "['papagaio', 12345, 6.5, 'leão', 'cobra', 6]"
            ]
          },
          "metadata": {},
          "execution_count": 26
        }
      ]
    },
    {
      "cell_type": "code",
      "metadata": {
        "colab": {
          "base_uri": "https://localhost:8080/"
        },
        "id": "0clIIY_Nggp6",
        "outputId": "bdc8e793-f2c7-4246-81c0-ab5917c6146f"
      },
      "source": [
        "#verificar quantas vezes aparece um valor na nossa lista\n",
        "animais.count(\"leão\")"
      ],
      "execution_count": 28,
      "outputs": [
        {
          "output_type": "execute_result",
          "data": {
            "text/plain": [
              "1"
            ]
          },
          "metadata": {},
          "execution_count": 28
        }
      ]
    },
    {
      "cell_type": "code",
      "metadata": {
        "id": "Oarc8DQOgqEf"
      },
      "source": [
        "#ordenar a lista\n",
        "lista.sort()"
      ],
      "execution_count": 30,
      "outputs": []
    },
    {
      "cell_type": "code",
      "metadata": {
        "colab": {
          "base_uri": "https://localhost:8080/"
        },
        "id": "L3Xu9uSSgySU",
        "outputId": "bca37aac-5860-4d21-dd01-57907ac1b2e3"
      },
      "source": [
        "#verificar a ordenação realizada\n",
        "lista"
      ],
      "execution_count": 31,
      "outputs": [
        {
          "output_type": "execute_result",
          "data": {
            "text/plain": [
              "[10, 30, 80, 300, 500]"
            ]
          },
          "metadata": {},
          "execution_count": 31
        }
      ]
    },
    {
      "cell_type": "markdown",
      "metadata": {
        "id": "yinkQXtVg6W4"
      },
      "source": [
        "## Tuplas"
      ]
    },
    {
      "cell_type": "markdown",
      "metadata": {
        "id": "tR-ODZ92hVQ4"
      },
      "source": [
        "- As tuplas usam parenteses como sintaxe.\n",
        "- As tuplas são imutáveis, não é possível alterar seus elementos"
      ]
    },
    {
      "cell_type": "code",
      "metadata": {
        "id": "lIPu-j1ehG8P"
      },
      "source": [
        "#criando uma tupla\n",
        "tp = (\"Banana\", \"maça\", 10, 50)"
      ],
      "execution_count": 32,
      "outputs": []
    },
    {
      "cell_type": "code",
      "metadata": {
        "colab": {
          "base_uri": "https://localhost:8080/",
          "height": 35
        },
        "id": "0ZzQGMRXhHCc",
        "outputId": "21bf561f-5313-4997-db3d-4aa74147eb1e"
      },
      "source": [
        "#retornando o primeiro elemento\n",
        "tp[0]"
      ],
      "execution_count": 33,
      "outputs": [
        {
          "output_type": "execute_result",
          "data": {
            "application/vnd.google.colaboratory.intrinsic+json": {
              "type": "string"
            },
            "text/plain": [
              "'Banana'"
            ]
          },
          "metadata": {},
          "execution_count": 33
        }
      ]
    },
    {
      "cell_type": "code",
      "metadata": {
        "colab": {
          "base_uri": "https://localhost:8080/"
        },
        "id": "SosjBBdJhcbR",
        "outputId": "91f86083-b236-404d-9508-26493acfb346"
      },
      "source": [
        "#contar a quantidade de vezes que um elemento aparece na tupla\n",
        "tp.count(\"Maçã\")"
      ],
      "execution_count": 35,
      "outputs": [
        {
          "output_type": "execute_result",
          "data": {
            "text/plain": [
              "0"
            ]
          },
          "metadata": {},
          "execution_count": 35
        }
      ]
    },
    {
      "cell_type": "code",
      "metadata": {
        "colab": {
          "base_uri": "https://localhost:8080/"
        },
        "id": "DFFkXXrEhvDw",
        "outputId": "71651397-e83c-4e4a-bb38-451e7fa402fe"
      },
      "source": [
        "#retornar valores, realizando o slice\n",
        "tp[0:2]"
      ],
      "execution_count": 36,
      "outputs": [
        {
          "output_type": "execute_result",
          "data": {
            "text/plain": [
              "('Banana', 'maça')"
            ]
          },
          "metadata": {},
          "execution_count": 36
        }
      ]
    },
    {
      "cell_type": "markdown",
      "metadata": {
        "id": "jZNzSrvRh5Ep"
      },
      "source": [
        "## Dicionário\n",
        "- Dicionários trabalham com o conceito de chave e valor"
      ]
    },
    {
      "cell_type": "code",
      "metadata": {
        "id": "8M6zqQ1viIc5"
      },
      "source": [
        "#criando um dicionario\n",
        "dc = {\"Maça\":20, \"Banana\":10, \"Laranja\":15, \"Uva\":5}"
      ],
      "execution_count": 37,
      "outputs": []
    },
    {
      "cell_type": "code",
      "metadata": {
        "colab": {
          "base_uri": "https://localhost:8080/"
        },
        "id": "FU70-jUNiSgU",
        "outputId": "9201586b-a1f7-4811-a770-9919e69cf099"
      },
      "source": [
        "#consultar um dicionario\n",
        "dc"
      ],
      "execution_count": 38,
      "outputs": [
        {
          "output_type": "execute_result",
          "data": {
            "text/plain": [
              "{'Banana': 10, 'Laranja': 15, 'Maça': 20, 'Uva': 5}"
            ]
          },
          "metadata": {},
          "execution_count": 38
        }
      ]
    },
    {
      "cell_type": "code",
      "metadata": {
        "colab": {
          "base_uri": "https://localhost:8080/"
        },
        "id": "mX1sC4RNiWdE",
        "outputId": "15d27299-8de0-488e-b863-d51aeb0a0d23"
      },
      "source": [
        "#Acessar o valor de um dicionário através da chave\n",
        "dc[\"Maça\"]"
      ],
      "execution_count": 39,
      "outputs": [
        {
          "output_type": "execute_result",
          "data": {
            "text/plain": [
              "20"
            ]
          },
          "metadata": {},
          "execution_count": 39
        }
      ]
    },
    {
      "cell_type": "code",
      "metadata": {
        "id": "kR3_glsviblm"
      },
      "source": [
        "#Atualizar o valor da Maça\n",
        "dc[\"Maça\"] = 25"
      ],
      "execution_count": 40,
      "outputs": []
    },
    {
      "cell_type": "code",
      "metadata": {
        "colab": {
          "base_uri": "https://localhost:8080/"
        },
        "id": "ea9F34pNii90",
        "outputId": "323e82c7-38ad-4f5e-cac6-7d82e83034dc"
      },
      "source": [
        "dc"
      ],
      "execution_count": 41,
      "outputs": [
        {
          "output_type": "execute_result",
          "data": {
            "text/plain": [
              "{'Banana': 10, 'Laranja': 15, 'Maça': 25, 'Uva': 5}"
            ]
          },
          "metadata": {},
          "execution_count": 41
        }
      ]
    },
    {
      "cell_type": "code",
      "metadata": {
        "colab": {
          "base_uri": "https://localhost:8080/"
        },
        "id": "4RnmrlWrikhd",
        "outputId": "9614f88e-19d7-474f-9a73-af8e321c74ec"
      },
      "source": [
        "#retornar todas as chaves do dicionário\n",
        "dc.keys()"
      ],
      "execution_count": 43,
      "outputs": [
        {
          "output_type": "execute_result",
          "data": {
            "text/plain": [
              "dict_keys(['Maça', 'Banana', 'Laranja', 'Uva'])"
            ]
          },
          "metadata": {},
          "execution_count": 43
        }
      ]
    },
    {
      "cell_type": "code",
      "metadata": {
        "colab": {
          "base_uri": "https://localhost:8080/"
        },
        "id": "CSu0eZfqineF",
        "outputId": "cd090c3e-90f7-41d2-d866-96fca12bca37"
      },
      "source": [
        "#retornar os valores do dicionário\n",
        "dc.values()"
      ],
      "execution_count": 44,
      "outputs": [
        {
          "output_type": "execute_result",
          "data": {
            "text/plain": [
              "dict_values([25, 10, 15, 5])"
            ]
          },
          "metadata": {},
          "execution_count": 44
        }
      ]
    },
    {
      "cell_type": "code",
      "metadata": {
        "colab": {
          "base_uri": "https://localhost:8080/"
        },
        "id": "OVNtPlqPisEc",
        "outputId": "2668d9ea-464e-4493-cf04-cfc1abd17f0a"
      },
      "source": [
        "#verificar se já existe uma chave no dicionário e caso não exista inserir\n",
        "dc.setdefault(\"Limão\", 22)"
      ],
      "execution_count": 45,
      "outputs": [
        {
          "output_type": "execute_result",
          "data": {
            "text/plain": [
              "22"
            ]
          },
          "metadata": {},
          "execution_count": 45
        }
      ]
    },
    {
      "cell_type": "code",
      "metadata": {
        "colab": {
          "base_uri": "https://localhost:8080/"
        },
        "id": "xW5LlrNXizvX",
        "outputId": "52c71ab9-f468-4d64-9d97-30ad65686b4b"
      },
      "source": [
        "dc"
      ],
      "execution_count": 46,
      "outputs": [
        {
          "output_type": "execute_result",
          "data": {
            "text/plain": [
              "{'Banana': 10, 'Laranja': 15, 'Limão': 22, 'Maça': 25, 'Uva': 5}"
            ]
          },
          "metadata": {},
          "execution_count": 46
        }
      ]
    }
  ]
}